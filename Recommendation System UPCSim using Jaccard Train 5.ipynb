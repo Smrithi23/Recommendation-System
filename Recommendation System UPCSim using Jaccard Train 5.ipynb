{
 "cells": [
  {
   "cell_type": "code",
   "execution_count": 1,
   "id": "8f5004fc",
   "metadata": {},
   "outputs": [],
   "source": [
    "# Import Libraries\n",
    "\n",
    "import pandas as pd\n",
    "import numpy as np\n",
    "import scipy\n",
    "from scipy import spatial"
   ]
  },
  {
   "cell_type": "code",
   "execution_count": 2,
   "id": "539a17ac",
   "metadata": {},
   "outputs": [],
   "source": [
    "# Important variables\n",
    "no_of_users = 943\n",
    "no_of_movies = 1682\n",
    "no_of_genres = 19"
   ]
  },
  {
   "cell_type": "code",
   "execution_count": 3,
   "id": "ba3489c1",
   "metadata": {},
   "outputs": [],
   "source": [
    "rating_data = pd.read_csv(\"./dataset/data.csv\")\n",
    "rating = rating_data.values[0:80000]\n",
    "test_dataset = rating_data.values[80000:]"
   ]
  },
  {
   "cell_type": "code",
   "execution_count": 4,
   "id": "d5cffecc",
   "metadata": {},
   "outputs": [
    {
     "name": "stdout",
     "output_type": "stream",
     "text": [
      "[[0.         0.97959184 0.99659864 ... 0.98809524 0.996337   0.97445255]\n",
      " [0.97959184 0.         0.99009901 ... 1.         0.97647059 0.97029703]\n",
      " [0.99659864 0.99009901 0.         ... 1.         0.9875     0.98969072]\n",
      " ...\n",
      " [0.98809524 1.         1.         ... 0.         1.         1.        ]\n",
      " [0.996337   0.97647059 0.9875     ... 1.         0.         0.97368421]\n",
      " [0.97445255 0.97029703 0.98969072 ... 1.         0.97368421 0.        ]]\n"
     ]
    }
   ],
   "source": [
    "# Calculating Sr\n",
    "\n",
    "ratings_matrix = np.tile(np.zeros(no_of_movies, dtype = float), (no_of_users, 1))\n",
    "\n",
    "for item in rating:\n",
    "    ratings_matrix[item[0]-1][item[1]-1] = item[2]\n",
    "\n",
    "Sr = np.tile(np.zeros(no_of_users, dtype = float), (no_of_users, 1))\n",
    "\n",
    "i = 0\n",
    "for user_1 in ratings_matrix:\n",
    "    j = 0\n",
    "    for user_2 in ratings_matrix:\n",
    "        result = scipy.spatial.distance.jaccard(user_1, user_2)\n",
    "        Sr[i][j] = result\n",
    "        j = j + 1\n",
    "    i = i + 1\n",
    "\n",
    "print(Sr)"
   ]
  },
  {
   "cell_type": "code",
   "execution_count": 5,
   "id": "7b83ba3a",
   "metadata": {},
   "outputs": [
    {
     "name": "stdout",
     "output_type": "stream",
     "text": [
      "[[0.         0.94736842 1.         ... 1.         1.         1.        ]\n",
      " [0.94736842 0.         1.         ... 0.8125     0.9375     0.82352941]\n",
      " [1.         1.         0.         ... 1.         0.94117647 0.88235294]\n",
      " ...\n",
      " [1.         0.8125     1.         ... 0.         0.92857143 0.9375    ]\n",
      " [1.         0.9375     0.94117647 ... 0.92857143 0.         0.875     ]\n",
      " [1.         0.82352941 0.88235294 ... 0.9375     0.875      0.        ]]\n"
     ]
    }
   ],
   "source": [
    "# Calculating Sb\n",
    "\n",
    "movies_data = pd.read_csv(\"./dataset/item.csv\")\n",
    "movies_data.drop('movie_id', axis=1, inplace=True)\n",
    "movies = movies_data.values\n",
    "# movie[i-1] will contain the genre vector representation for ith movie\n",
    "# movie[i-1][j-1] will contain the 1/0 value for ith movie jth genre\n",
    "\n",
    "behaviour_matrix = np.tile(np.zeros(no_of_genres, dtype = float), (no_of_users, 1))\n",
    "\n",
    "for item in rating:\n",
    "    user_id = item[0] - 1\n",
    "    movie_id = item[1] - 1\n",
    "    behaviour_matrix[user_id] += movies[movie_id]\n",
    "\n",
    "intermediate_matrix = np.transpose(behaviour_matrix, axes=None)\n",
    "\n",
    "for index, genre in enumerate(intermediate_matrix):\n",
    "    N = np.count_nonzero(genre)\n",
    "    intermediate_matrix[index] = intermediate_matrix[index] / N\n",
    "\n",
    "probability_matrix = np.transpose(intermediate_matrix, axes=None)\n",
    "Sb = np.tile(np.zeros(no_of_users, dtype = float), (no_of_users, 1))\n",
    "\n",
    "i = 0\n",
    "for user_1 in probability_matrix:\n",
    "    j = 0\n",
    "    for user_2 in probability_matrix:\n",
    "        result = scipy.spatial.distance.jaccard(user_1, user_2)\n",
    "        Sb[i][j] = result\n",
    "        j = j + 1\n",
    "    i = i + 1\n",
    "\n",
    "print(Sb)"
   ]
  },
  {
   "cell_type": "code",
   "execution_count": 6,
   "id": "341105fd",
   "metadata": {},
   "outputs": [
    {
     "name": "stdout",
     "output_type": "stream",
     "text": [
      "[[2.4000e+01 0.0000e+00 2.0000e+01 8.5711e+04]\n",
      " [5.3000e+01 1.0000e+00 1.4000e+01 9.4043e+04]\n",
      " [2.3000e+01 0.0000e+00 2.1000e+01 3.2067e+04]\n",
      " ...\n",
      " [2.0000e+01 0.0000e+00 1.9000e+01 9.7229e+04]\n",
      " [4.8000e+01 1.0000e+00 1.1000e+01 7.8209e+04]\n",
      " [2.2000e+01 0.0000e+00 1.9000e+01 7.7841e+04]]\n"
     ]
    }
   ],
   "source": [
    "# Create user profile vectors\n",
    "# If zip code is not numeric we consider it to be 0\n",
    "\n",
    "gender = {\n",
    "    'M': 0,\n",
    "    'F': 1\n",
    "}\n",
    "\n",
    "occupation = {\n",
    "    'administrator': 1,\n",
    "    'artist' : 2,\n",
    "    'doctor' : 3,\n",
    "    'educator' : 4,\n",
    "    'engineer' : 5,\n",
    "    'entertainment' : 6,\n",
    "    'executive' : 7,\n",
    "    'healthcare' : 8,\n",
    "    'homemaker' : 9,\n",
    "    'lawyer' : 10,\n",
    "    'librarian' : 11,\n",
    "    'marketing' : 12,\n",
    "    'none' : 13,\n",
    "    'other' : 14,\n",
    "    'programmer' : 15,\n",
    "    'retired' : 16,\n",
    "    'salesman' : 17,\n",
    "    'scientist' : 18,\n",
    "    'student' : 19,\n",
    "    'technician' : 20,\n",
    "    'writer' : 21\n",
    "}\n",
    "\n",
    "user_data = pd.read_csv(\"./dataset/user.csv\")\n",
    "user_data.drop('user_id', axis=1, inplace=True)\n",
    "user_profile_data = user_data.values\n",
    "user_profile = np.tile(np.zeros(4, dtype = float), (943, 1))\n",
    "\n",
    "for index, profile in enumerate(user_profile_data):\n",
    "    user_profile[index][0] = profile[0]\n",
    "\n",
    "    user_profile[index][1] = gender[profile[1]]\n",
    "\n",
    "    user_profile[index][2] = occupation[profile[2]]\n",
    "\n",
    "    if profile[3].isnumeric():\n",
    "        user_profile[index][3] = int(profile[3])\n",
    "    else:\n",
    "        user_profile[index][3] = 0\n",
    "\n",
    "print(user_profile)"
   ]
  },
  {
   "cell_type": "code",
   "execution_count": 7,
   "id": "ad46231a",
   "metadata": {},
   "outputs": [
    {
     "name": "stdout",
     "output_type": "stream",
     "text": [
      "Alpha value :  0.10973892494633615 \n",
      "Beta value :  0.13828734410420798\n"
     ]
    }
   ],
   "source": [
    "# Calculate alpha and beta\n",
    "import statsmodels.api as sm\n",
    "from statsmodels.formula.api import ols\n",
    "\n",
    "user_profile_rating = np.tile(np.zeros(5, dtype = float), (943, 1))\n",
    "user_profile_behaviour = np.tile(np.zeros(5, dtype = float), (943, 1))\n",
    "\n",
    "for index, profile in enumerate(user_profile):\n",
    "    user_profile_rating[index][0] = profile[0]\n",
    "    user_profile_rating[index][1] = profile[1]\n",
    "    user_profile_rating[index][2] = profile[2]\n",
    "    user_profile_rating[index][3] = profile[3]\n",
    "    sum1 = np.sum(ratings_matrix[index])\n",
    "    N1 = np.count_nonzero(ratings_matrix[index])\n",
    "    user_profile_rating[index][4] = sum1 / N1\n",
    "\n",
    "\n",
    "    user_profile_behaviour[index][0] = profile[0]\n",
    "    user_profile_behaviour[index][1] = profile[1]\n",
    "    user_profile_behaviour[index][2] = profile[2]\n",
    "    user_profile_behaviour[index][3] = profile[3]\n",
    "    sum2 = np.sum(probability_matrix[index])\n",
    "    N2 = np.count_nonzero(probability_matrix[index])\n",
    "    user_profile_behaviour[index][4] = sum2 / N2\n",
    "\n",
    "data_user_rating = pd.DataFrame(user_profile_rating, columns=[\"age\", \"gender\", \"occupation\", \"location\", \"rating\"])\n",
    "\n",
    "model_1 = ols(\"rating ~ age + gender + occupation + location\", data=data_user_rating).fit()\n",
    "# print(model_1.params)\n",
    "# print(model_1.summary())\n",
    "alpha = model_1.rsquared**.5\n",
    "\n",
    "data_user_behaviour = pd.DataFrame(user_profile_behaviour, columns=[\"age\", \"gender\", \"occupation\", \"location\", \"behaviour\"])\n",
    "\n",
    "model_2 = ols(\"behaviour ~ age + gender + occupation + location\", data=data_user_behaviour).fit()\n",
    "# print(model_2.params)\n",
    "# print(model_2.summary())\n",
    "beta = model_2.rsquared**.5\n",
    "\n",
    "print(\"Alpha value : \", alpha, \"\\nBeta value : \", beta)"
   ]
  },
  {
   "cell_type": "code",
   "execution_count": 8,
   "id": "8c14c1d0",
   "metadata": {},
   "outputs": [
    {
     "name": "stdout",
     "output_type": "stream",
     "text": [
      "[[0.         0.23850842 0.24765301 ... 0.24671985 0.24762429 0.24522272]\n",
      " [0.23850842 0.         0.24693975 ... 0.22209739 0.23680122 0.22036305]\n",
      " [0.24765301 0.24693975 0.         ... 0.24802627 0.23851998 0.23062584]\n",
      " ...\n",
      " [0.24671985 0.22209739 0.24802627 ... 0.         0.2381486  0.23938331]\n",
      " [0.24762429 0.23680122 0.23851998 ... 0.2381486  0.         0.22785248]\n",
      " [0.24522272 0.22036305 0.23062584 ... 0.23938331 0.22785248 0.        ]]\n"
     ]
    }
   ],
   "source": [
    "# Calculate S\n",
    "S = np.tile(np.zeros(943, dtype = float), (943, 1))\n",
    "term_1 = np.multiply(Sr, alpha)\n",
    "term_2 = np.multiply(Sb, beta)\n",
    "S = np.add(term_1, term_2)\n",
    "print(S)"
   ]
  },
  {
   "cell_type": "code",
   "execution_count": 9,
   "id": "8f4bc096",
   "metadata": {},
   "outputs": [],
   "source": [
    "import math\n",
    "\n",
    "def make_prediction_upcsim(user_for_prediction, movie_for_prediction, k):\n",
    "\n",
    "  # Find neighbours\n",
    "  similarities = S[user_for_prediction - 1]\n",
    "  sort_matrix = np.tile(np.zeros(2, dtype = float), (943, 1))\n",
    "  neighbours = np.tile(np.zeros(2, dtype = float), (k, 1))\n",
    "  for index, value in enumerate(similarities):\n",
    "    sort_matrix[index][0] = index + 1\n",
    "    sort_matrix[index][1] = value\n",
    "  sort_matrix = sort_matrix[sort_matrix[:, 1].argsort()]\n",
    "  i = 0\n",
    "  j = 0\n",
    "  while j != k and i < 943:\n",
    "    if ratings_matrix[int(sort_matrix[i][0] - 1)][movie_for_prediction - 1] != 0 and sort_matrix[i][0] != user_for_prediction:\n",
    "      neighbours[j] = sort_matrix[i]\n",
    "      j = j + 1\n",
    "    i = i + 1\n",
    "\n",
    "  # Make prediction\n",
    "  summation = 0\n",
    "  total_abs_similarity = 0\n",
    "\n",
    "  # Calculating average rating value for the user\n",
    "  user_total_rating = np.sum(ratings_matrix[user_for_prediction - 1])\n",
    "  Num = np.count_nonzero(ratings_matrix[user_for_prediction - 1])\n",
    "  user_average_rating = user_total_rating / Num\n",
    "\n",
    "  # Loop through neighbours\n",
    "  for neighbour in neighbours:\n",
    "\n",
    "    # obtain the id and similarity value\n",
    "    neighbour_id = neighbour[0]\n",
    "    neighbour_similarity = neighbour[1]\n",
    "\n",
    "    # get the rating for the movie given by the neighbour from the ratings matrix\n",
    "    neighbour_rating = ratings_matrix[int(neighbour_id - 1)][int(movie_for_prediction - 1)]\n",
    "    sum_rating = np.sum(ratings_matrix[int(neighbour_id - 1)])\n",
    "\n",
    "    # get average of the rating given by the neighbour\n",
    "    N = np.count_nonzero(ratings_matrix[int(neighbour_id - 1)])\n",
    "    if(N == 0):\n",
    "      N = 1\n",
    "    mean_rating = sum_rating / N\n",
    "\n",
    "    # update summation\n",
    "    if(neighbour_rating != 0):\n",
    "      summation = summation + neighbour_similarity * (neighbour_rating - mean_rating)\n",
    "    # update total absolute similarity\n",
    "    total_abs_similarity = total_abs_similarity + np.abs(neighbour_similarity)\n",
    "\n",
    "  if(total_abs_similarity) == 0:\n",
    "    total_abs_similarity = 0.001\n",
    "\n",
    "  # calculate the prediction value\n",
    "  prediction = user_average_rating + summation / total_abs_similarity\n",
    "\n",
    "  return prediction"
   ]
  },
  {
   "cell_type": "code",
   "execution_count": 10,
   "id": "53a20249",
   "metadata": {},
   "outputs": [],
   "source": [
    "# MAE Calculation\n",
    "def MAE_Calculation(k):\n",
    "  testing = pd.read_csv('./dataset/data.csv')\n",
    "  # testing_data = testing.values[80000:]\n",
    "\n",
    "  no = len(test_dataset)\n",
    "  print(no, \"test values\")\n",
    "  total_mae_error = 0\n",
    "  for test in test_dataset:\n",
    "\n",
    "    # prediction by UPCSim\n",
    "    prediction = make_prediction_upcsim(test[0], test[1], k)\n",
    "\n",
    "    # prediction value in test dataset\n",
    "    test_prediction = test[2]\n",
    "\n",
    "    # Error value\n",
    "    error = abs(prediction - test_prediction)\n",
    "\n",
    "    # update total MAE\n",
    "    total_mae_error = total_mae_error + error\n",
    "    \n",
    "  # divide by the number of test values\n",
    "  mae_error = total_mae_error / no\n",
    "  print(\"MAE\", mae_error)"
   ]
  },
  {
   "cell_type": "code",
   "execution_count": 11,
   "id": "d39f6a1d",
   "metadata": {},
   "outputs": [
    {
     "name": "stdout",
     "output_type": "stream",
     "text": [
      "20000 test values\n",
      "MAE 0.7608013084410977\n"
     ]
    }
   ],
   "source": [
    "MAE_Calculation(20)"
   ]
  },
  {
   "cell_type": "code",
   "execution_count": 12,
   "id": "0e787765",
   "metadata": {},
   "outputs": [
    {
     "name": "stdout",
     "output_type": "stream",
     "text": [
      "20000 test values\n",
      "MAE 0.7555834647789273\n"
     ]
    }
   ],
   "source": [
    "MAE_Calculation(40)"
   ]
  },
  {
   "cell_type": "code",
   "execution_count": 13,
   "id": "9be442d4",
   "metadata": {},
   "outputs": [
    {
     "name": "stdout",
     "output_type": "stream",
     "text": [
      "20000 test values\n",
      "MAE 0.7541645374074241\n"
     ]
    }
   ],
   "source": [
    "MAE_Calculation(60)"
   ]
  },
  {
   "cell_type": "code",
   "execution_count": 14,
   "id": "edfc9333",
   "metadata": {},
   "outputs": [
    {
     "name": "stdout",
     "output_type": "stream",
     "text": [
      "20000 test values\n",
      "MAE 0.7543266220545614\n"
     ]
    }
   ],
   "source": [
    "MAE_Calculation(80)"
   ]
  },
  {
   "cell_type": "code",
   "execution_count": 15,
   "id": "68838edd",
   "metadata": {},
   "outputs": [
    {
     "name": "stdout",
     "output_type": "stream",
     "text": [
      "20000 test values\n",
      "MAE 0.7546921632425094\n"
     ]
    }
   ],
   "source": [
    "MAE_Calculation(100)"
   ]
  },
  {
   "cell_type": "code",
   "execution_count": 16,
   "id": "43b43983",
   "metadata": {},
   "outputs": [],
   "source": [
    "# RMSE Calculation\n",
    "def RMSE_Calculation(k):\n",
    "  no = len(test_dataset)\n",
    "  print(no, \"test values\")\n",
    "\n",
    "  total_rmse_error = 0\n",
    "\n",
    "  for test in test_dataset:\n",
    "    # Make prediction from UPCSim\n",
    "    prediction = make_prediction_upcsim(test[0], test[1], k)\n",
    "\n",
    "    # Prediction value from test dataset\n",
    "    test_prediction = test[2]\n",
    "\n",
    "    # Error value\n",
    "    error = (prediction - test_prediction) ** 2\n",
    "    total_rmse_error = total_rmse_error + error\n",
    "\n",
    "  # divide by the number of test values\n",
    "  rmse_error = math.sqrt(total_rmse_error / no)\n",
    "  print(\"RMSE\", rmse_error)"
   ]
  },
  {
   "cell_type": "code",
   "execution_count": 17,
   "id": "07f26e2b",
   "metadata": {},
   "outputs": [
    {
     "name": "stdout",
     "output_type": "stream",
     "text": [
      "20000 test values\n",
      "RMSE 0.958274141910653\n"
     ]
    }
   ],
   "source": [
    "RMSE_Calculation(20)"
   ]
  },
  {
   "cell_type": "code",
   "execution_count": 18,
   "id": "3fa0f04a",
   "metadata": {},
   "outputs": [
    {
     "name": "stdout",
     "output_type": "stream",
     "text": [
      "20000 test values\n",
      "RMSE 0.95294668193116\n"
     ]
    }
   ],
   "source": [
    "RMSE_Calculation(40)"
   ]
  },
  {
   "cell_type": "code",
   "execution_count": 19,
   "id": "6e99eb35",
   "metadata": {},
   "outputs": [
    {
     "name": "stdout",
     "output_type": "stream",
     "text": [
      "20000 test values\n",
      "RMSE 0.9514568350185681\n"
     ]
    }
   ],
   "source": [
    "RMSE_Calculation(60)"
   ]
  },
  {
   "cell_type": "code",
   "execution_count": 20,
   "id": "b30e3c9c",
   "metadata": {},
   "outputs": [
    {
     "name": "stdout",
     "output_type": "stream",
     "text": [
      "20000 test values\n",
      "RMSE 0.9519696818470312\n"
     ]
    }
   ],
   "source": [
    "RMSE_Calculation(80)"
   ]
  },
  {
   "cell_type": "code",
   "execution_count": 21,
   "id": "47a3ced4",
   "metadata": {},
   "outputs": [
    {
     "name": "stdout",
     "output_type": "stream",
     "text": [
      "20000 test values\n",
      "RMSE 0.9526429909096877\n"
     ]
    }
   ],
   "source": [
    "RMSE_Calculation(100)"
   ]
  },
  {
   "cell_type": "code",
   "execution_count": null,
   "id": "30977e0c",
   "metadata": {},
   "outputs": [],
   "source": []
  }
 ],
 "metadata": {
  "kernelspec": {
   "display_name": "Python 3",
   "language": "python",
   "name": "python3"
  },
  "language_info": {
   "codemirror_mode": {
    "name": "ipython",
    "version": 3
   },
   "file_extension": ".py",
   "mimetype": "text/x-python",
   "name": "python",
   "nbconvert_exporter": "python",
   "pygments_lexer": "ipython3",
   "version": "3.7.6"
  }
 },
 "nbformat": 4,
 "nbformat_minor": 5
}
