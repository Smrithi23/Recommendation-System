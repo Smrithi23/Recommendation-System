{
 "cells": [
  {
   "cell_type": "code",
   "execution_count": 1,
   "id": "70673851",
   "metadata": {},
   "outputs": [],
   "source": [
    "# Import Libraries\n",
    "\n",
    "import pandas as pd\n",
    "import numpy as np\n",
    "import scipy\n",
    "from scipy import spatial"
   ]
  },
  {
   "cell_type": "code",
   "execution_count": 2,
   "id": "f08cc222",
   "metadata": {},
   "outputs": [],
   "source": [
    "# Important variables\n",
    "no_of_users = 943\n",
    "no_of_movies = 1682\n",
    "no_of_genres = 19"
   ]
  },
  {
   "cell_type": "code",
   "execution_count": 3,
   "id": "f66236f4",
   "metadata": {},
   "outputs": [],
   "source": [
    "rating_data = pd.read_csv(\"./dataset/data.csv\")\n",
    "rating = rating_data.values[20000:80000]\n",
    "test_dataset = rating_data.values[0:20000]"
   ]
  },
  {
   "cell_type": "code",
   "execution_count": 4,
   "id": "3661c622",
   "metadata": {},
   "outputs": [
    {
     "name": "stdout",
     "output_type": "stream",
     "text": [
      "[[0.         0.9862069  1.         ... 0.97435897 0.99285714 0.98039216]\n",
      " [0.9862069  0.         1.         ... 1.         1.         0.9625    ]\n",
      " [1.         1.         0.         ... 1.         0.98181818 0.98591549]\n",
      " ...\n",
      " [0.97435897 1.         1.         ... 0.         1.         1.        ]\n",
      " [0.99285714 1.         0.98181818 ... 1.         0.         0.97368421]\n",
      " [0.98039216 0.9625     0.98591549 ... 1.         0.97368421 0.        ]]\n"
     ]
    }
   ],
   "source": [
    "# Calculating Sr\n",
    "\n",
    "ratings_matrix = np.tile(np.zeros(no_of_movies, dtype = float), (no_of_users, 1))\n",
    "\n",
    "for item in rating:\n",
    "    ratings_matrix[item[0]-1][item[1]-1] = item[2]\n",
    "\n",
    "Sr = np.tile(np.zeros(no_of_users, dtype = float), (no_of_users, 1))\n",
    "\n",
    "i = 0\n",
    "for user_1 in ratings_matrix:\n",
    "    j = 0\n",
    "    for user_2 in ratings_matrix:\n",
    "        result = scipy.spatial.distance.jaccard(user_1, user_2)\n",
    "        Sr[i][j] = result\n",
    "        j = j + 1\n",
    "    i = i + 1\n",
    "\n",
    "print(Sr)"
   ]
  },
  {
   "cell_type": "code",
   "execution_count": 5,
   "id": "9d4d11b6",
   "metadata": {},
   "outputs": [
    {
     "name": "stdout",
     "output_type": "stream",
     "text": [
      "[[0.         1.         0.94444444 ... 1.         0.94444444 0.88888889]\n",
      " [1.         0.         0.9375     ... 0.71428571 0.93333333 0.8125    ]\n",
      " [0.94444444 0.9375     0.         ... 0.9375     0.88235294 1.        ]\n",
      " ...\n",
      " [1.         0.71428571 0.9375     ... 0.         0.92857143 0.9375    ]\n",
      " [0.94444444 0.93333333 0.88235294 ... 0.92857143 0.         0.875     ]\n",
      " [0.88888889 0.8125     1.         ... 0.9375     0.875      0.        ]]\n"
     ]
    }
   ],
   "source": [
    "# Calculating Sb\n",
    "\n",
    "movies_data = pd.read_csv(\"./dataset/item.csv\")\n",
    "movies_data.drop('movie_id', axis=1, inplace=True)\n",
    "movies = movies_data.values\n",
    "# movie[i-1] will contain the genre vector representation for ith movie\n",
    "# movie[i-1][j-1] will contain the 1/0 value for ith movie jth genre\n",
    "\n",
    "behaviour_matrix = np.tile(np.zeros(no_of_genres, dtype = float), (no_of_users, 1))\n",
    "\n",
    "for item in rating:\n",
    "    user_id = item[0] - 1\n",
    "    movie_id = item[1] - 1\n",
    "    behaviour_matrix[user_id] += movies[movie_id]\n",
    "\n",
    "intermediate_matrix = np.transpose(behaviour_matrix, axes=None)\n",
    "\n",
    "for index, genre in enumerate(intermediate_matrix):\n",
    "    N = np.count_nonzero(genre)\n",
    "    intermediate_matrix[index] = intermediate_matrix[index] / N\n",
    "\n",
    "probability_matrix = np.transpose(intermediate_matrix, axes=None)\n",
    "Sb = np.tile(np.zeros(no_of_users, dtype = float), (no_of_users, 1))\n",
    "\n",
    "i = 0\n",
    "for user_1 in probability_matrix:\n",
    "    j = 0\n",
    "    for user_2 in probability_matrix:\n",
    "        result = scipy.spatial.distance.jaccard(user_1, user_2)\n",
    "        Sb[i][j] = result\n",
    "        j = j + 1\n",
    "    i = i + 1\n",
    "\n",
    "print(Sb)"
   ]
  },
  {
   "cell_type": "code",
   "execution_count": 6,
   "id": "f26624ae",
   "metadata": {},
   "outputs": [
    {
     "name": "stdout",
     "output_type": "stream",
     "text": [
      "[[2.4000e+01 0.0000e+00 2.0000e+01 8.5711e+04]\n",
      " [5.3000e+01 1.0000e+00 1.4000e+01 9.4043e+04]\n",
      " [2.3000e+01 0.0000e+00 2.1000e+01 3.2067e+04]\n",
      " ...\n",
      " [2.0000e+01 0.0000e+00 1.9000e+01 9.7229e+04]\n",
      " [4.8000e+01 1.0000e+00 1.1000e+01 7.8209e+04]\n",
      " [2.2000e+01 0.0000e+00 1.9000e+01 7.7841e+04]]\n"
     ]
    }
   ],
   "source": [
    "# Create user profile vectors\n",
    "# If zip code is not numeric we consider it to be 0\n",
    "\n",
    "gender = {\n",
    "    'M': 0,\n",
    "    'F': 1\n",
    "}\n",
    "\n",
    "occupation = {\n",
    "    'administrator': 1,\n",
    "    'artist' : 2,\n",
    "    'doctor' : 3,\n",
    "    'educator' : 4,\n",
    "    'engineer' : 5,\n",
    "    'entertainment' : 6,\n",
    "    'executive' : 7,\n",
    "    'healthcare' : 8,\n",
    "    'homemaker' : 9,\n",
    "    'lawyer' : 10,\n",
    "    'librarian' : 11,\n",
    "    'marketing' : 12,\n",
    "    'none' : 13,\n",
    "    'other' : 14,\n",
    "    'programmer' : 15,\n",
    "    'retired' : 16,\n",
    "    'salesman' : 17,\n",
    "    'scientist' : 18,\n",
    "    'student' : 19,\n",
    "    'technician' : 20,\n",
    "    'writer' : 21\n",
    "}\n",
    "\n",
    "user_data = pd.read_csv(\"./dataset/user.csv\")\n",
    "user_data.drop('user_id', axis=1, inplace=True)\n",
    "user_profile_data = user_data.values\n",
    "user_profile = np.tile(np.zeros(4, dtype = float), (943, 1))\n",
    "\n",
    "for index, profile in enumerate(user_profile_data):\n",
    "    user_profile[index][0] = profile[0]\n",
    "\n",
    "    user_profile[index][1] = gender[profile[1]]\n",
    "\n",
    "    user_profile[index][2] = occupation[profile[2]]\n",
    "\n",
    "    if profile[3].isnumeric():\n",
    "        user_profile[index][3] = int(profile[3])\n",
    "    else:\n",
    "        user_profile[index][3] = 0\n",
    "\n",
    "print(user_profile)"
   ]
  },
  {
   "cell_type": "code",
   "execution_count": 7,
   "id": "f6ae58ec",
   "metadata": {},
   "outputs": [
    {
     "name": "stdout",
     "output_type": "stream",
     "text": [
      "Alpha value :  0.10425939531935904 \n",
      "Beta value :  0.15351620121414344\n"
     ]
    }
   ],
   "source": [
    "# Calculate alpha and beta\n",
    "import statsmodels.api as sm\n",
    "from statsmodels.formula.api import ols\n",
    "\n",
    "user_profile_rating = np.tile(np.zeros(5, dtype = float), (943, 1))\n",
    "user_profile_behaviour = np.tile(np.zeros(5, dtype = float), (943, 1))\n",
    "\n",
    "for index, profile in enumerate(user_profile):\n",
    "    user_profile_rating[index][0] = profile[0]\n",
    "    user_profile_rating[index][1] = profile[1]\n",
    "    user_profile_rating[index][2] = profile[2]\n",
    "    user_profile_rating[index][3] = profile[3]\n",
    "    sum1 = np.sum(ratings_matrix[index])\n",
    "    N1 = np.count_nonzero(ratings_matrix[index])\n",
    "    user_profile_rating[index][4] = sum1 / N1\n",
    "\n",
    "\n",
    "    user_profile_behaviour[index][0] = profile[0]\n",
    "    user_profile_behaviour[index][1] = profile[1]\n",
    "    user_profile_behaviour[index][2] = profile[2]\n",
    "    user_profile_behaviour[index][3] = profile[3]\n",
    "    sum2 = np.sum(probability_matrix[index])\n",
    "    N2 = np.count_nonzero(probability_matrix[index])\n",
    "    user_profile_behaviour[index][4] = sum2 / N2\n",
    "\n",
    "data_user_rating = pd.DataFrame(user_profile_rating, columns=[\"age\", \"gender\", \"occupation\", \"location\", \"rating\"])\n",
    "\n",
    "model_1 = ols(\"rating ~ age + gender + occupation + location\", data=data_user_rating).fit()\n",
    "# print(model_1.params)\n",
    "# print(model_1.summary())\n",
    "alpha = model_1.rsquared**.5\n",
    "\n",
    "data_user_behaviour = pd.DataFrame(user_profile_behaviour, columns=[\"age\", \"gender\", \"occupation\", \"location\", \"behaviour\"])\n",
    "\n",
    "model_2 = ols(\"behaviour ~ age + gender + occupation + location\", data=data_user_behaviour).fit()\n",
    "# print(model_2.params)\n",
    "# print(model_2.summary())\n",
    "beta = model_2.rsquared**.5\n",
    "\n",
    "print(\"Alpha value : \", alpha, \"\\nBeta value : \", beta)"
   ]
  },
  {
   "cell_type": "code",
   "execution_count": 8,
   "id": "0120afc8",
   "metadata": {},
   "outputs": [
    {
     "name": "stdout",
     "output_type": "stream",
     "text": [
      "[[0.         0.25633754 0.24924692 ... 0.25510228 0.24850221 0.23867394]\n",
      " [0.25633754 0.         0.24818083 ... 0.21391382 0.24754118 0.22508158]\n",
      " [0.24924692 0.24818083 0.         ... 0.24818083 0.23781924 0.25630715]\n",
      " ...\n",
      " [0.25510228 0.21391382 0.24818083 ... 0.         0.24681015 0.24818083]\n",
      " [0.24850221 0.24754118 0.23781924 ... 0.24681015 0.         0.2358424 ]\n",
      " [0.23867394 0.22508158 0.25630715 ... 0.24818083 0.2358424  0.        ]]\n"
     ]
    }
   ],
   "source": [
    "# Calculate S\n",
    "S = np.tile(np.zeros(943, dtype = float), (943, 1))\n",
    "term_1 = np.multiply(Sr, alpha)\n",
    "term_2 = np.multiply(Sb, beta)\n",
    "S = np.add(term_1, term_2)\n",
    "print(S)"
   ]
  },
  {
   "cell_type": "code",
   "execution_count": 9,
   "id": "77c3899e",
   "metadata": {},
   "outputs": [],
   "source": [
    "import math\n",
    "\n",
    "def make_prediction_upcsim(user_for_prediction, movie_for_prediction, k):\n",
    "\n",
    "  # Find neighbours\n",
    "  similarities = S[user_for_prediction - 1]\n",
    "  sort_matrix = np.tile(np.zeros(2, dtype = float), (943, 1))\n",
    "  neighbours = np.tile(np.zeros(2, dtype = float), (k, 1))\n",
    "  for index, value in enumerate(similarities):\n",
    "    sort_matrix[index][0] = index + 1\n",
    "    sort_matrix[index][1] = value\n",
    "  sort_matrix = sort_matrix[sort_matrix[:, 1].argsort()]\n",
    "  i = 0\n",
    "  j = 0\n",
    "  while j != k and i < 943:\n",
    "    if ratings_matrix[int(sort_matrix[i][0] - 1)][movie_for_prediction - 1] != 0 and sort_matrix[i][0] != user_for_prediction:\n",
    "      neighbours[j] = sort_matrix[i]\n",
    "      j = j + 1\n",
    "    i = i + 1\n",
    "\n",
    "  # Make prediction\n",
    "  summation = 0\n",
    "  total_abs_similarity = 0\n",
    "\n",
    "  # Calculating average rating value for the user\n",
    "  user_total_rating = np.sum(ratings_matrix[user_for_prediction - 1])\n",
    "  Num = np.count_nonzero(ratings_matrix[user_for_prediction - 1])\n",
    "  user_average_rating = user_total_rating / Num\n",
    "\n",
    "  # Loop through neighbours\n",
    "  for neighbour in neighbours:\n",
    "\n",
    "    # obtain the id and similarity value\n",
    "    neighbour_id = neighbour[0]\n",
    "    neighbour_similarity = neighbour[1]\n",
    "\n",
    "    # get the rating for the movie given by the neighbour from the ratings matrix\n",
    "    neighbour_rating = ratings_matrix[int(neighbour_id - 1)][int(movie_for_prediction - 1)]\n",
    "    sum_rating = np.sum(ratings_matrix[int(neighbour_id - 1)])\n",
    "\n",
    "    # get average of the rating given by the neighbour\n",
    "    N = np.count_nonzero(ratings_matrix[int(neighbour_id - 1)])\n",
    "    if(N == 0):\n",
    "      N = 1\n",
    "    mean_rating = sum_rating / N\n",
    "\n",
    "    # update summation\n",
    "    if(neighbour_rating != 0):\n",
    "      summation = summation + neighbour_similarity * (neighbour_rating - mean_rating)\n",
    "    # update total absolute similarity\n",
    "    total_abs_similarity = total_abs_similarity + np.abs(neighbour_similarity)\n",
    "\n",
    "  if(total_abs_similarity) == 0:\n",
    "    total_abs_similarity = 0.001\n",
    "\n",
    "  # calculate the prediction value\n",
    "  prediction = user_average_rating + summation / total_abs_similarity\n",
    "\n",
    "  return prediction"
   ]
  },
  {
   "cell_type": "code",
   "execution_count": 10,
   "id": "58834de1",
   "metadata": {},
   "outputs": [],
   "source": [
    "# MAE Calculation\n",
    "def MAE_Calculation(k):\n",
    "  testing = pd.read_csv('./dataset/data.csv')\n",
    "  # testing_data = testing.values[80000:]\n",
    "\n",
    "  no = len(test_dataset)\n",
    "  print(no, \"test values\")\n",
    "  total_mae_error = 0\n",
    "  for test in test_dataset:\n",
    "\n",
    "    # prediction by UPCSim\n",
    "    prediction = make_prediction_upcsim(test[0], test[1], k)\n",
    "\n",
    "    # prediction value in test dataset\n",
    "    test_prediction = test[2]\n",
    "\n",
    "    # Error value\n",
    "    error = abs(prediction - test_prediction)\n",
    "\n",
    "    # update total MAE\n",
    "    total_mae_error = total_mae_error + error\n",
    "    \n",
    "  # divide by the number of test values\n",
    "  mae_error = total_mae_error / no\n",
    "  print(\"MAE\", mae_error)"
   ]
  },
  {
   "cell_type": "code",
   "execution_count": 11,
   "id": "ad23a1fb",
   "metadata": {},
   "outputs": [
    {
     "name": "stdout",
     "output_type": "stream",
     "text": [
      "20000 test values\n",
      "MAE 0.7789629908560937\n"
     ]
    }
   ],
   "source": [
    "MAE_Calculation(20)"
   ]
  },
  {
   "cell_type": "code",
   "execution_count": 12,
   "id": "e3da666c",
   "metadata": {},
   "outputs": [
    {
     "name": "stdout",
     "output_type": "stream",
     "text": [
      "20000 test values\n",
      "MAE 0.7737948071797783\n"
     ]
    }
   ],
   "source": [
    "MAE_Calculation(40)"
   ]
  },
  {
   "cell_type": "code",
   "execution_count": 13,
   "id": "f17747d3",
   "metadata": {},
   "outputs": [
    {
     "name": "stdout",
     "output_type": "stream",
     "text": [
      "20000 test values\n",
      "MAE 0.7728450117561356\n"
     ]
    }
   ],
   "source": [
    "MAE_Calculation(60)"
   ]
  },
  {
   "cell_type": "code",
   "execution_count": 14,
   "id": "8bed60fd",
   "metadata": {},
   "outputs": [
    {
     "name": "stdout",
     "output_type": "stream",
     "text": [
      "20000 test values\n",
      "MAE 0.7729408550286792\n"
     ]
    }
   ],
   "source": [
    "MAE_Calculation(80)"
   ]
  },
  {
   "cell_type": "code",
   "execution_count": 15,
   "id": "4b87371c",
   "metadata": {},
   "outputs": [
    {
     "name": "stdout",
     "output_type": "stream",
     "text": [
      "20000 test values\n",
      "MAE 0.7731144416115481\n"
     ]
    }
   ],
   "source": [
    "MAE_Calculation(100)"
   ]
  },
  {
   "cell_type": "code",
   "execution_count": 16,
   "id": "4d16d152",
   "metadata": {},
   "outputs": [],
   "source": [
    "# RMSE Calculation\n",
    "def RMSE_Calculation(k):\n",
    "  no = len(test_dataset)\n",
    "  print(no, \"test values\")\n",
    "\n",
    "  total_rmse_error = 0\n",
    "\n",
    "  for test in test_dataset:\n",
    "    # Make prediction from UPCSim\n",
    "    prediction = make_prediction_upcsim(test[0], test[1], k)\n",
    "\n",
    "    # Prediction value from test dataset\n",
    "    test_prediction = test[2]\n",
    "\n",
    "    # Error value\n",
    "    error = (prediction - test_prediction) ** 2\n",
    "    total_rmse_error = total_rmse_error + error\n",
    "\n",
    "  # divide by the number of test values\n",
    "  rmse_error = math.sqrt(total_rmse_error / no)\n",
    "  print(\"RMSE\", rmse_error)"
   ]
  },
  {
   "cell_type": "code",
   "execution_count": 17,
   "id": "6aefee40",
   "metadata": {},
   "outputs": [
    {
     "name": "stdout",
     "output_type": "stream",
     "text": [
      "20000 test values\n",
      "RMSE 0.9875159401719139\n"
     ]
    }
   ],
   "source": [
    "RMSE_Calculation(20)"
   ]
  },
  {
   "cell_type": "code",
   "execution_count": 18,
   "id": "32f099bd",
   "metadata": {},
   "outputs": [
    {
     "name": "stdout",
     "output_type": "stream",
     "text": [
      "20000 test values\n",
      "RMSE 0.9807328734643612\n"
     ]
    }
   ],
   "source": [
    "RMSE_Calculation(40)"
   ]
  },
  {
   "cell_type": "code",
   "execution_count": 19,
   "id": "c2fb58c9",
   "metadata": {},
   "outputs": [
    {
     "name": "stdout",
     "output_type": "stream",
     "text": [
      "20000 test values\n",
      "RMSE 0.9798558309978594\n"
     ]
    }
   ],
   "source": [
    "RMSE_Calculation(60)"
   ]
  },
  {
   "cell_type": "code",
   "execution_count": 20,
   "id": "82a4d3fc",
   "metadata": {},
   "outputs": [
    {
     "name": "stdout",
     "output_type": "stream",
     "text": [
      "20000 test values\n",
      "RMSE 0.9799461474475453\n"
     ]
    }
   ],
   "source": [
    "RMSE_Calculation(80)"
   ]
  },
  {
   "cell_type": "code",
   "execution_count": 21,
   "id": "c7d90cc4",
   "metadata": {},
   "outputs": [
    {
     "name": "stdout",
     "output_type": "stream",
     "text": [
      "20000 test values\n",
      "RMSE 0.9803772999089645\n"
     ]
    }
   ],
   "source": [
    "RMSE_Calculation(100)"
   ]
  },
  {
   "cell_type": "code",
   "execution_count": null,
   "id": "b41a2159",
   "metadata": {},
   "outputs": [],
   "source": []
  }
 ],
 "metadata": {
  "kernelspec": {
   "display_name": "Python 3",
   "language": "python",
   "name": "python3"
  },
  "language_info": {
   "codemirror_mode": {
    "name": "ipython",
    "version": 3
   },
   "file_extension": ".py",
   "mimetype": "text/x-python",
   "name": "python",
   "nbconvert_exporter": "python",
   "pygments_lexer": "ipython3",
   "version": "3.7.6"
  }
 },
 "nbformat": 4,
 "nbformat_minor": 5
}
